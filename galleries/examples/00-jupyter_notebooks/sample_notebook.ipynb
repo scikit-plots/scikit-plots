{
 "cells": [
  {
   "cell_type": "markdown",
   "id": "62360ff0",
   "metadata": {},
   "source": [
    "# This is a Jupyter Notebook"
   ]
  },
  {
   "cell_type": "code",
   "execution_count": 3,
   "id": "b9f8bed0",
   "metadata": {},
   "outputs": [
    {
     "data": {
      "text/plain": [
       "'0.5.dev0+git.20250814.5970dd6'"
      ]
     },
     "execution_count": 3,
     "metadata": {},
     "output_type": "execute_result"
    }
   ],
   "source": [
    "# Import scikit-plot\n",
    "import scikitplot as sp\n",
    "from scikitplot import logger, stats\n",
    "\n",
    "sp.__version__"
   ]
  },
  {
   "cell_type": "code",
   "execution_count": 9,
   "id": "fe876df0",
   "metadata": {},
   "outputs": [
    {
     "data": {
      "text/plain": [
       "20"
      ]
     },
     "execution_count": 9,
     "metadata": {},
     "output_type": "execute_result"
    }
   ],
   "source": [
    "logger.getEffectiveLevel()  # Check the current logging level"
   ]
  },
  {
   "cell_type": "code",
   "execution_count": null,
   "id": "5a7d9405",
   "metadata": {},
   "outputs": [],
   "source": [
    "# Set up logging\n",
    "# import logging\n",
    "# logging.basicConfig(level=logging.DEBUG)\n",
    "# logger = logging.getLogger(__name__)"
   ]
  },
  {
   "cell_type": "code",
   "execution_count": null,
   "id": "a5077823",
   "metadata": {},
   "outputs": [],
   "source": [
    "import os\n",
    "import time\n",
    "from pprint import pprint\n",
    "\n",
    "import numpy as np\n",
    "np.random.seed(0)\n",
    "import matplotlib.pyplot as plt\n",
    "import seaborn as sns"
   ]
  },
  {
   "cell_type": "code",
   "execution_count": null,
   "metadata": {},
   "outputs": [],
   "source": []
  },
  {
   "cell_type": "code",
   "execution_count": null,
   "metadata": {},
   "outputs": [],
   "source": []
  }
 ],
 "metadata": {
  "kernelspec": {
   "display_name": "py311",
   "language": "python",
   "name": "python3"
  },
  "language_info": {
   "codemirror_mode": {
    "name": "ipython",
    "version": 3
   },
   "file_extension": ".py",
   "mimetype": "text/x-python",
   "name": "python",
   "nbconvert_exporter": "python",
   "pygments_lexer": "ipython3",
   "version": "3.11.13"
  }
 },
 "nbformat": 4,
 "nbformat_minor": 5
}
