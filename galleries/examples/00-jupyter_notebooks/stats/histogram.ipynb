{
 "cells": [
  {
   "cell_type": "code",
   "execution_count": 7,
   "metadata": {},
   "outputs": [
    {
     "name": "stdout",
     "output_type": "stream",
     "text": [
      "# conda environments:\n",
      "#\n",
      "base                     /opt/conda\n",
      "py311                 *  /opt/conda/envs/py311\n",
      "\n",
      "Python 3.11.12\n"
     ]
    }
   ],
   "source": [
    "!conda info -e && python -V"
   ]
  },
  {
   "cell_type": "code",
   "execution_count": 1,
   "metadata": {},
   "outputs": [
    {
     "data": {
      "text/plain": [
       "'0.5.dev0+git.20250811.21598aa'"
      ]
     },
     "execution_count": 1,
     "metadata": {},
     "output_type": "execute_result"
    }
   ],
   "source": [
    "from sklearn.calibration import CalibratedClassifierCV\n",
    "from sklearn.datasets import make_classification\n",
    "from sklearn.ensemble import RandomForestClassifier\n",
    "from sklearn.linear_model import LogisticRegression\n",
    "from sklearn.naive_bayes import GaussianNB\n",
    "from sklearn.svm import LinearSVC\n",
    "\n",
    "import numpy as np\n",
    "np.random.seed(0)\n",
    "# importing pylab or pyplot\n",
    "import matplotlib.pyplot as plt\n",
    "\n",
    "%matplotlib inline\n",
    "plt.rcParams['figure.figsize'] = (12, 5)\n",
    "\n",
    "# Import scikit-plot\n",
    "import scikitplot as sp\n",
    "\n",
    "sp.__version__"
   ]
  },
  {
   "cell_type": "code",
   "execution_count": 2,
   "metadata": {},
   "outputs": [
    {
     "name": "stdout",
     "output_type": "stream",
     "text": [
      "\u001b[31mSignature:\u001b[39m\n",
      "histogram(\n",
      "    a: \u001b[33m'ArrayLike'\u001b[39m,\n",
      "    bins: \u001b[33m\"int | list[float] | Literal['blocks', 'knuth', 'scott', 'freedman'] | None\"\u001b[39m = \u001b[32m10\u001b[39m,\n",
      "    range: \u001b[33m'tuple[float, float] | None'\u001b[39m = \u001b[38;5;28;01mNone\u001b[39;00m,\n",
      "    weights: \u001b[33m'ArrayLike | None'\u001b[39m = \u001b[38;5;28;01mNone\u001b[39;00m,\n",
      "    **kwargs,\n",
      ") -> \u001b[33m'tuple[NDArray, NDArray]'\u001b[39m\n",
      "\u001b[31mDocstring:\u001b[39m\n",
      "Enhanced histogram function, providing adaptive binnings.\n",
      "\n",
      "This is a histogram function that enables the use of more sophisticated\n",
      "algorithms for determining bins.  Aside from the ``bins`` argument allowing\n",
      "a string specified how bins are computed, the parameters are the same\n",
      "as `numpy.histogram`.\n",
      "\n",
      "Parameters\n",
      "----------\n",
      "a : array-like\n",
      "    array of data to be histogrammed\n",
      "\n",
      "bins : int, list, or str, optional\n",
      "    If bins is a string, then it must be one of:\n",
      "\n",
      "    - 'blocks' : use bayesian blocks for dynamic bin widths\n",
      "\n",
      "    - 'knuth' : use Knuth's rule to determine bins\n",
      "\n",
      "    - 'scott' : use Scott's rule to determine bins\n",
      "\n",
      "    - 'freedman' : use the Freedman-Diaconis rule to determine bins\n",
      "\n",
      "range : tuple or None, optional\n",
      "    the minimum and maximum range for the histogram.  If not specified,\n",
      "    it will be (x.min(), x.max())\n",
      "\n",
      "weights : array-like, optional\n",
      "    An array the same shape as ``a``. If given, the histogram accumulates\n",
      "    the value of the weight corresponding to ``a`` instead of returning the\n",
      "    count of values. This argument does not affect determination of bin\n",
      "    edges.\n",
      "\n",
      "**kwargs : dict, optional\n",
      "    Extra arguments are described in `numpy.histogram`.\n",
      "\n",
      "Returns\n",
      "-------\n",
      "hist : array\n",
      "    The values of the histogram. See ``density`` and ``weights`` for a\n",
      "    description of the possible semantics.\n",
      "bin_edges : array of dtype float\n",
      "    Return the bin edges ``(length(hist)+1)``.\n",
      "\n",
      "See Also\n",
      "--------\n",
      "numpy.histogram\n",
      "\u001b[31mFile:\u001b[39m      /work/notebooks/scikitplot/_astropy/stats/histogram.py\n",
      "\u001b[31mType:\u001b[39m      function"
     ]
    }
   ],
   "source": [
    "from scikitplot.stats import histogram\n",
    "\n",
    "histogram?"
   ]
  },
  {
   "cell_type": "code",
   "execution_count": 3,
   "metadata": {},
   "outputs": [
    {
     "data": {
      "text/plain": [
       "((1000, 5), (999000, 5))"
      ]
     },
     "execution_count": 3,
     "metadata": {},
     "output_type": "execute_result"
    }
   ],
   "source": [
    "# Load the data\n",
    "X, y = make_classification(\n",
    "\tn_samples=int(1e6),\n",
    "\tn_features=5,\n",
    "\tn_informative=2,\n",
    "\tn_redundant=2,\n",
    "\tn_repeated=0,\n",
    "\tn_classes=2,\n",
    "\tn_clusters_per_class=2,\n",
    "\trandom_state=0,\n",
    ")\n",
    "X_train, y_train, X_val, y_val = X[:1000], y[:1000], X[1000:], y[1000:]\n",
    "\n",
    "X_train.shape, X_val.shape, "
   ]
  },
  {
   "cell_type": "code",
   "execution_count": 4,
   "metadata": {},
   "outputs": [],
   "source": [
    "t = X_train[:,0]\n",
    "tr = t.copy()"
   ]
  },
  {
   "cell_type": "code",
   "execution_count": 5,
   "metadata": {},
   "outputs": [
    {
     "name": "stdout",
     "output_type": "stream",
     "text": [
      "bins='blocks'\n",
      "size: 7\n",
      "[ 10  33 134 676  80  46  21]\n",
      "[-3.28014194 -2.41568203 -2.02193243 -1.28908697  1.24124305  1.87244844\n",
      "  2.65264082  3.89811045]\n",
      "\n",
      "bins='freedman'\n",
      "size: 20\n",
      "[  3   5  24  43  82  78  85  92  98 109 114  93  55  46  29  17  11   8\n",
      "   7   1]\n",
      "[-3.28014194 -2.91403872 -2.5479355  -2.18183227 -1.81572905 -1.44962582\n",
      " -1.0835226  -0.71741938 -0.35131615  0.01478707  0.3808903   0.74699352\n",
      "  1.11309674  1.47919997  1.84530319  2.21140642  2.57750964  2.94361286\n",
      "  3.30971609  3.67581931  4.04192253]\n",
      "\n",
      "bins='knuth'\n",
      "size: 24\n",
      "[ 3  3  7 25 44 70 55 77 65 83 76 91 93 89 61 42 39 27 17 13  6  6  6  2]\n",
      "[-3.28014194 -2.98104809 -2.68195424 -2.38286039 -2.08376655 -1.7846727\n",
      " -1.48557885 -1.186485   -0.88739115 -0.5882973  -0.28920345  0.0098904\n",
      "  0.30898425  0.6080781   0.90717195  1.2062658   1.50535965  1.8044535\n",
      "  2.10354735  2.4026412   2.70173505  3.0008289   3.29992275  3.5990166\n",
      "  3.89811045]\n",
      "\n",
      "bins='scott'\n",
      "size: 17\n",
      "[  5   7  45  92  92 104 117 129 136 109  62  48  24  14   9   6   1]\n",
      "[-3.28014194 -2.83521483 -2.39028772 -1.9453606  -1.50043349 -1.05550637\n",
      " -0.61057926 -0.16565215  0.27927497  0.72420208  1.1691292   1.61405631\n",
      "  2.05898342  2.50391054  2.94883765  3.39376477  3.83869188  4.28361899]\n",
      "\n"
     ]
    }
   ],
   "source": [
    "for bins in ['blocks', 'freedman', 'knuth', 'scott', ]:\n",
    "    print(f\"{bins=}\")\n",
    "    hist, bin_edges = histogram(t, bins=bins)\n",
    "    print( f\"size: {len(hist)}\" )\n",
    "    print( hist )\n",
    "    print( bin_edges )\n",
    "    print()"
   ]
  },
  {
   "cell_type": "code",
   "execution_count": null,
   "metadata": {},
   "outputs": [],
   "source": []
  }
 ],
 "metadata": {
  "kernelspec": {
   "display_name": "py311",
   "language": "python",
   "name": "python3"
  },
  "language_info": {
   "codemirror_mode": {
    "name": "ipython",
    "version": 3
   },
   "file_extension": ".py",
   "mimetype": "text/x-python",
   "name": "python",
   "nbconvert_exporter": "python",
   "pygments_lexer": "ipython3",
   "version": "3.11.13"
  }
 },
 "nbformat": 4,
 "nbformat_minor": 4
}
