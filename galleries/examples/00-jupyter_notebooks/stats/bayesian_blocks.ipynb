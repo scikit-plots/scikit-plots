{
 "cells": [
  {
   "cell_type": "code",
   "execution_count": 1,
   "metadata": {},
   "outputs": [
    {
     "name": "stdout",
     "output_type": "stream",
     "text": [
      "# conda environments:\n",
      "#\n",
      "base                     /opt/conda\n",
      "py311                 *  /opt/conda/envs/py311\n",
      "\n",
      "Python 3.11.12\n"
     ]
    }
   ],
   "source": [
    "!conda info -e && python -V"
   ]
  },
  {
   "cell_type": "code",
   "execution_count": 1,
   "metadata": {},
   "outputs": [
    {
     "data": {
      "text/plain": [
       "'0.5.dev0+git.20250811.21598aa'"
      ]
     },
     "execution_count": 1,
     "metadata": {},
     "output_type": "execute_result"
    }
   ],
   "source": [
    "from sklearn.calibration import CalibratedClassifierCV\n",
    "from sklearn.datasets import make_classification\n",
    "from sklearn.ensemble import RandomForestClassifier\n",
    "from sklearn.linear_model import LogisticRegression\n",
    "from sklearn.naive_bayes import GaussianNB\n",
    "from sklearn.svm import LinearSVC\n",
    "\n",
    "import numpy as np\n",
    "np.random.seed(0)\n",
    "# importing pylab or pyplot\n",
    "import matplotlib.pyplot as plt\n",
    "\n",
    "%matplotlib inline\n",
    "plt.rcParams['figure.figsize'] = (12, 5)\n",
    "\n",
    "# Import scikit-plot\n",
    "import scikitplot as sp\n",
    "\n",
    "sp.__version__"
   ]
  },
  {
   "cell_type": "code",
   "execution_count": null,
   "metadata": {},
   "outputs": [
    {
     "data": {
      "text/plain": [
       "['Events',\n",
       " 'FitnessFunc',\n",
       " 'PointMeasures',\n",
       " 'RegularEvents',\n",
       " 'RipleysKEstimator',\n",
       " 'SigmaClip',\n",
       " 'SigmaClippedStats',\n",
       " '__all__',\n",
       " '__builtins__',\n",
       " '__cached__',\n",
       " '__doc__',\n",
       " '__file__',\n",
       " '__loader__',\n",
       " '__name__',\n",
       " '__package__',\n",
       " '__path__',\n",
       " '__spec__',\n",
       " '_bb',\n",
       " '_fast_sigma_clip',\n",
       " '_hist',\n",
       " '_stats',\n",
       " 'akaike_info_criterion',\n",
       " 'akaike_info_criterion_lsq',\n",
       " 'bayesian_blocks',\n",
       " 'bayesian_info_criterion',\n",
       " 'bayesian_info_criterion_lsq',\n",
       " 'binned_binom_proportion',\n",
       " 'binom_conf_interval',\n",
       " 'biweight',\n",
       " 'biweight_location',\n",
       " 'biweight_midcorrelation',\n",
       " 'biweight_midcovariance',\n",
       " 'biweight_midvariance',\n",
       " 'biweight_scale',\n",
       " 'bootstrap',\n",
       " 'calculate_bin_edges',\n",
       " 'cdf_from_intervals',\n",
       " 'circcorrcoef',\n",
       " 'circmean',\n",
       " 'circmoment',\n",
       " 'circstats',\n",
       " 'circstd',\n",
       " 'circvar',\n",
       " 'fold_intervals',\n",
       " 'freedman_bin_width',\n",
       " 'funcs',\n",
       " 'gaussian_fwhm_to_sigma',\n",
       " 'gaussian_sigma_to_fwhm',\n",
       " 'histogram',\n",
       " 'histogram_intervals',\n",
       " 'info_theory',\n",
       " 'interval_overlap_length',\n",
       " 'jackknife',\n",
       " 'jackknife_resampling',\n",
       " 'jackknife_stats',\n",
       " 'knuth_bin_width',\n",
       " 'kuiper',\n",
       " 'kuiper_false_positive_probability',\n",
       " 'kuiper_two',\n",
       " 'mad_std',\n",
       " 'median_absolute_deviation',\n",
       " 'nanfunctions',\n",
       " 'poisson_conf_interval',\n",
       " 'rayleightest',\n",
       " 'scott_bin_width',\n",
       " 'sigma_clip',\n",
       " 'sigma_clipped_stats',\n",
       " 'sigma_clipping',\n",
       " 'signal_to_noise_oir_ccd',\n",
       " 'spatial',\n",
       " 'vonmisesmle',\n",
       " 'vtest']"
      ]
     },
     "execution_count": 2,
     "metadata": {},
     "output_type": "execute_result"
    }
   ],
   "source": [
    "from scikitplot.cexternals import _astropy\n",
    "\n",
    "dir(_astropy.stats)"
   ]
  },
  {
   "cell_type": "code",
   "execution_count": 3,
   "metadata": {},
   "outputs": [
    {
     "name": "stdout",
     "output_type": "stream",
     "text": [
      "\u001b[31mSignature:\u001b[39m\n",
      "bayesian_blocks(\n",
      "    t: \u001b[33m'ArrayLike'\u001b[39m,\n",
      "    x: \u001b[33m'ArrayLike | None'\u001b[39m = \u001b[38;5;28;01mNone\u001b[39;00m,\n",
      "    sigma: \u001b[33m'ArrayLike | float | None'\u001b[39m = \u001b[38;5;28;01mNone\u001b[39;00m,\n",
      "    fitness: \u001b[33m\"Literal['events', 'regular_events', 'measures'] | FitnessFunc\"\u001b[39m = \u001b[33m'events'\u001b[39m,\n",
      "    **kwargs,\n",
      ") -> \u001b[33m'NDArray[float]'\u001b[39m\n",
      "\u001b[31mDocstring:\u001b[39m\n",
      "Compute optimal segmentation of data with Scargle's Bayesian Blocks.\n",
      "\n",
      "This is a flexible implementation of the Bayesian Blocks algorithm\n",
      "described in Scargle 2013 [1]_.\n",
      "\n",
      "Parameters\n",
      "----------\n",
      "t : array-like\n",
      "    data times (one dimensional, length N)\n",
      "x : array-like, optional\n",
      "    data values\n",
      "sigma : array-like or float, optional\n",
      "    data errors\n",
      "fitness : str or object\n",
      "    the fitness function to use for the model.\n",
      "    If a string, the following options are supported:\n",
      "\n",
      "    - 'events' : binned or unbinned event data.  Arguments are ``gamma``,\n",
      "      which gives the slope of the prior on the number of bins, or\n",
      "      ``ncp_prior``, which is :math:`-\\ln({\\tt gamma})`.\n",
      "    - 'regular_events' : non-overlapping events measured at multiples of a\n",
      "      fundamental tick rate, ``dt``, which must be specified as an\n",
      "      additional argument.  Extra arguments are ``p0``, which gives the\n",
      "      false alarm probability to compute the prior, or ``gamma``, which\n",
      "      gives the slope of the prior on the number of bins, or ``ncp_prior``,\n",
      "      which is :math:`-\\ln({\\tt gamma})`.\n",
      "    - 'measures' : fitness for a measured sequence with Gaussian errors.\n",
      "      Extra arguments are ``p0``, which gives the false alarm probability\n",
      "      to compute the prior, or ``gamma``, which gives the slope of the\n",
      "      prior on the number of bins, or ``ncp_prior``, which is\n",
      "      :math:`-\\ln({\\tt gamma})`.\n",
      "\n",
      "    In all three cases, if more than one of ``p0``, ``gamma``, and\n",
      "    ``ncp_prior`` is chosen, ``ncp_prior`` takes precedence over ``gamma``\n",
      "    which takes precedence over ``p0``.\n",
      "\n",
      "    Alternatively, the fitness parameter can be an instance of\n",
      "    :class:`FitnessFunc` or a subclass thereof.\n",
      "\n",
      "**kwargs :\n",
      "    any additional keyword arguments will be passed to the specified\n",
      "    :class:`FitnessFunc` derived class.\n",
      "\n",
      "Returns\n",
      "-------\n",
      "edges : ndarray\n",
      "    array containing the (N+1) edges defining the N bins\n",
      "\n",
      "Examples\n",
      "--------\n",
      ".. testsetup::\n",
      "\n",
      "    >>> np.random.seed(12345)\n",
      "\n",
      "Event data:\n",
      "\n",
      ">>> t = np.random.normal(size=100)\n",
      ">>> edges = bayesian_blocks(t, fitness='events', p0=0.01)\n",
      "\n",
      "Event data with repeats:\n",
      "\n",
      ">>> t = np.random.normal(size=100)\n",
      ">>> t[80:] = t[:20]\n",
      ">>> edges = bayesian_blocks(t, fitness='events', p0=0.01)\n",
      "\n",
      "Regular event data:\n",
      "\n",
      ">>> dt = 0.05\n",
      ">>> t = dt * np.arange(1000)\n",
      ">>> x = np.zeros(len(t))\n",
      ">>> x[np.random.randint(0, len(t), len(t) // 10)] = 1\n",
      ">>> edges = bayesian_blocks(t, x, fitness='regular_events', dt=dt)\n",
      "\n",
      "Measured point data with errors:\n",
      "\n",
      ">>> t = 100 * np.random.random(100)\n",
      ">>> x = np.exp(-0.5 * (t - 50) ** 2)\n",
      ">>> sigma = 0.1\n",
      ">>> x_obs = np.random.normal(x, sigma)\n",
      ">>> edges = bayesian_blocks(t, x_obs, sigma, fitness='measures')\n",
      "\n",
      "References\n",
      "----------\n",
      ".. [1] Scargle, J et al. (2013)\n",
      "   https://ui.adsabs.harvard.edu/abs/2013ApJ...764..167S\n",
      "\n",
      ".. [2] Bellman, R.E., Dreyfus, S.E., 1962. Applied Dynamic\n",
      "   Programming. Princeton University Press, Princeton.\n",
      "   https://press.princeton.edu/books/hardcover/9780691651873/applied-dynamic-programming\n",
      "\n",
      ".. [3] Bellman, R., Roth, R., 1969. Curve fitting by segmented\n",
      "   straight lines. J. Amer. Statist. Assoc. 64, 1079–1084.\n",
      "   https://www.tandfonline.com/doi/abs/10.1080/01621459.1969.10501038\n",
      "\n",
      "See Also\n",
      "--------\n",
      "astropy.stats.histogram : compute a histogram using bayesian blocks\n",
      "\u001b[31mFile:\u001b[39m      /work/notebooks/scikitplot/_astropy/stats/bayesian_blocks.py\n",
      "\u001b[31mType:\u001b[39m      function"
     ]
    }
   ],
   "source": [
    "from scikitplot.stats import bayesian_blocks\n",
    "\n",
    "bayesian_blocks?"
   ]
  },
  {
   "cell_type": "code",
   "execution_count": 4,
   "metadata": {},
   "outputs": [
    {
     "data": {
      "text/plain": [
       "((1000, 5), (999000, 5))"
      ]
     },
     "execution_count": 4,
     "metadata": {},
     "output_type": "execute_result"
    }
   ],
   "source": [
    "# Load the data\n",
    "X, y = make_classification(\n",
    "\tn_samples=int(1e6),\n",
    "\tn_features=5,\n",
    "\tn_informative=2,\n",
    "\tn_redundant=2,\n",
    "\tn_repeated=0,\n",
    "\tn_classes=2,\n",
    "\tn_clusters_per_class=2,\n",
    "\trandom_state=0,\n",
    ")\n",
    "X_train, y_train, X_val, y_val = X[:1000], y[:1000], X[1000:], y[1000:]\n",
    "\n",
    "X_train.shape, X_val.shape, "
   ]
  },
  {
   "cell_type": "code",
   "execution_count": 5,
   "metadata": {},
   "outputs": [],
   "source": [
    "t = X_train[:,0]\n",
    "tr = t.copy()"
   ]
  },
  {
   "cell_type": "code",
   "execution_count": 6,
   "metadata": {},
   "outputs": [
    {
     "name": "stdout",
     "output_type": "stream",
     "text": [
      "\n",
      "f='events'\n",
      " [-3.28014194 -2.41568203 -2.02193243 -1.28908697  1.24124305  1.87244844\n",
      "  2.65264082  3.89811045] \n",
      "mean: 0.08219992231151574\n",
      "\n",
      "f='regular_events'\n",
      " [-3.28014194 -2.41568203 -2.02193243 -1.28908697  1.24124305  1.87244844\n",
      "  2.65264082  3.89811045] \n",
      "mean: 0.08219992231151574\n",
      "\n",
      "f='measures'\n",
      " [-3.28014194 -2.41568203 -2.02193243 -1.28908697  1.24124305  1.87244844\n",
      "  2.65264082  3.89811045] \n",
      "mean: 0.08219992231151574\n"
     ]
    }
   ],
   "source": [
    "for f in ['events', 'regular_events', 'measures']:\n",
    "    edges = bayesian_blocks(t, fitness='events', p0=0.01)\n",
    "    print(f'\\n{f=}\\n', edges, '\\nmean:', edges.mean())"
   ]
  },
  {
   "cell_type": "code",
   "execution_count": 7,
   "metadata": {},
   "outputs": [
    {
     "data": {
      "text/plain": [
       "array([-3.28014194, -2.41568203, -2.02193243, -1.28908697,  1.24124305,\n",
       "        1.87244844,  2.65264082,  3.89811045])"
      ]
     },
     "execution_count": 7,
     "metadata": {},
     "output_type": "execute_result"
    }
   ],
   "source": [
    "tr[tr.size//2:] = tr[:tr.size//2]\n",
    "edges = bayesian_blocks(t, fitness='events', p0=0.01)\n",
    "edges"
   ]
  },
  {
   "cell_type": "code",
   "execution_count": null,
   "metadata": {},
   "outputs": [],
   "source": []
  }
 ],
 "metadata": {
  "kernelspec": {
   "display_name": "py311",
   "language": "python",
   "name": "python3"
  },
  "language_info": {
   "codemirror_mode": {
    "name": "ipython",
    "version": 3
   },
   "file_extension": ".py",
   "mimetype": "text/x-python",
   "name": "python",
   "nbconvert_exporter": "python",
   "pygments_lexer": "ipython3",
   "version": "3.11.13"
  }
 },
 "nbformat": 4,
 "nbformat_minor": 4
}
