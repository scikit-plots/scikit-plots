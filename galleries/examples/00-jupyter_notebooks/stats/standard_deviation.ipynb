{
 "cells": [
  {
   "cell_type": "code",
   "execution_count": 9,
   "metadata": {},
   "outputs": [
    {
     "name": "stdout",
     "output_type": "stream",
     "text": [
      "# conda environments:\n",
      "#\n",
      "base                     /opt/conda\n",
      "py311                 *  /opt/conda/envs/py311\n",
      "\n",
      "Python 3.11.12\n"
     ]
    }
   ],
   "source": [
    "!conda info -e && python -V"
   ]
  },
  {
   "cell_type": "code",
   "execution_count": 1,
   "metadata": {},
   "outputs": [
    {
     "data": {
      "text/plain": [
       "'0.5.dev0+git.20250811.8191a7b'"
      ]
     },
     "execution_count": 1,
     "metadata": {},
     "output_type": "execute_result"
    }
   ],
   "source": [
    "from sklearn.calibration import CalibratedClassifierCV\n",
    "from sklearn.datasets import make_classification\n",
    "from sklearn.ensemble import RandomForestClassifier\n",
    "from sklearn.linear_model import LogisticRegression\n",
    "from sklearn.naive_bayes import GaussianNB\n",
    "from sklearn.svm import LinearSVC\n",
    "\n",
    "import numpy as np\n",
    "np.random.seed(0)\n",
    "# importing pylab or pyplot\n",
    "import matplotlib.pyplot as plt\n",
    "\n",
    "%matplotlib inline\n",
    "plt.rcParams['figure.figsize'] = (12, 5)\n",
    "\n",
    "# Import scikit-plot\n",
    "import scikitplot as sp\n",
    "\n",
    "sp.__version__"
   ]
  },
  {
   "cell_type": "code",
   "execution_count": 2,
   "metadata": {},
   "outputs": [
    {
     "name": "stdout",
     "output_type": "stream",
     "text": [
      "\u001b[31mSignature:\u001b[39m\n",
      "sp.stats.circmean(\n",
      "    data: \u001b[33m\"'NDArray | Quantity'\"\u001b[39m,\n",
      "    axis: \u001b[33m'int | None'\u001b[39m = \u001b[38;5;28;01mNone\u001b[39;00m,\n",
      "    weights: \u001b[33m'NDArray | None'\u001b[39m = \u001b[38;5;28;01mNone\u001b[39;00m,\n",
      ") -> \u001b[33m\"'NDArray | Quantity'\"\u001b[39m\n",
      "\u001b[31mDocstring:\u001b[39m\n",
      "Computes the circular mean angle of an array of circular data.\n",
      "\n",
      "Parameters\n",
      "----------\n",
      "data : ndarray or `~astropy.units.Quantity`\n",
      "    Array of circular (directional) data, which is assumed to be in\n",
      "    radians whenever ``data`` is ``numpy.ndarray``.\n",
      "axis : int, optional\n",
      "    Axis along which circular means are computed. The default is to compute\n",
      "    the mean of the flattened array.\n",
      "weights : numpy.ndarray, optional\n",
      "    In case of grouped data, the i-th element of ``weights`` represents a\n",
      "    weighting factor for each group such that ``sum(weights, axis)``\n",
      "    equals the number of observations. See [1]_, remark 1.4, page 22, for\n",
      "    detailed explanation.\n",
      "\n",
      "Returns\n",
      "-------\n",
      "circmean : ndarray or `~astropy.units.Quantity`\n",
      "    Circular mean.\n",
      "\n",
      "Examples\n",
      "--------\n",
      ">>> import numpy as np\n",
      ">>> from astropy.stats import circmean\n",
      ">>> from astropy import units as u\n",
      ">>> data = np.array([51, 67, 40, 109, 31, 358])*u.deg\n",
      ">>> circmean(data) # doctest: +FLOAT_CMP\n",
      "<Quantity 48.62718088722989 deg>\n",
      "\n",
      "References\n",
      "----------\n",
      ".. [1] S. R. Jammalamadaka, A. SenGupta. \"Topics in Circular Statistics\".\n",
      "   Series on Multivariate Analysis, Vol. 5, 2001.\n",
      ".. [2] C. Agostinelli, U. Lund. \"Circular Statistics from 'Topics in\n",
      "   Circular Statistics (2001)'\". 2015.\n",
      "   <https://cran.r-project.org/web/packages/CircStats/CircStats.pdf>\n",
      "\u001b[31mFile:\u001b[39m      /work/notebooks/scikitplot/_astropy/stats/circstats.py\n",
      "\u001b[31mType:\u001b[39m      function"
     ]
    }
   ],
   "source": [
    "sp.stats.circmean?"
   ]
  },
  {
   "cell_type": "code",
   "execution_count": 3,
   "metadata": {},
   "outputs": [
    {
     "data": {
      "text/plain": [
       "((1000, 5), (999000, 5))"
      ]
     },
     "execution_count": 3,
     "metadata": {},
     "output_type": "execute_result"
    }
   ],
   "source": [
    "# Load the data\n",
    "X, y = make_classification(\n",
    "\tn_samples=int(1e6),\n",
    "\tn_features=5,\n",
    "\tn_informative=2,\n",
    "\tn_redundant=2,\n",
    "\tn_repeated=0,\n",
    "\tn_classes=2,\n",
    "\tn_clusters_per_class=2,\n",
    "\trandom_state=0,\n",
    ")\n",
    "X_train, y_train, X_val, y_val = X[:1000], y[:1000], X[1000:], y[1000:]\n",
    "\n",
    "X_train.shape, X_val.shape, "
   ]
  },
  {
   "cell_type": "code",
   "execution_count": 4,
   "metadata": {},
   "outputs": [],
   "source": [
    "t = X_train[:,0]\n",
    "tr = t.copy()"
   ]
  },
  {
   "cell_type": "code",
   "execution_count": 5,
   "metadata": {},
   "outputs": [
    {
     "data": {
      "text/plain": [
       "np.float64(-0.12011034340739603)"
      ]
     },
     "execution_count": 5,
     "metadata": {},
     "output_type": "execute_result"
    }
   ],
   "source": [
    "sp.stats.circmean(t)"
   ]
  },
  {
   "cell_type": "code",
   "execution_count": 6,
   "metadata": {},
   "outputs": [
    {
     "data": {
      "text/plain": [
       "np.float64(0.8984704276257607)"
      ]
     },
     "execution_count": 6,
     "metadata": {},
     "output_type": "execute_result"
    }
   ],
   "source": [
    "sp.stats.median_absolute_deviation(t)"
   ]
  },
  {
   "cell_type": "code",
   "execution_count": 7,
   "metadata": {},
   "outputs": [
    {
     "data": {
      "text/plain": [
       "np.float64(1.3320742492596298)"
      ]
     },
     "execution_count": 7,
     "metadata": {},
     "output_type": "execute_result"
    }
   ],
   "source": [
    "sp.stats.mad_std(t)"
   ]
  },
  {
   "cell_type": "code",
   "execution_count": null,
   "metadata": {},
   "outputs": [],
   "source": []
  },
  {
   "cell_type": "code",
   "execution_count": null,
   "metadata": {},
   "outputs": [],
   "source": []
  }
 ],
 "metadata": {
  "kernelspec": {
   "display_name": "py311",
   "language": "python",
   "name": "python3"
  },
  "language_info": {
   "codemirror_mode": {
    "name": "ipython",
    "version": 3
   },
   "file_extension": ".py",
   "mimetype": "text/x-python",
   "name": "python",
   "nbconvert_exporter": "python",
   "pygments_lexer": "ipython3",
   "version": "3.11.13"
  }
 },
 "nbformat": 4,
 "nbformat_minor": 4
}
